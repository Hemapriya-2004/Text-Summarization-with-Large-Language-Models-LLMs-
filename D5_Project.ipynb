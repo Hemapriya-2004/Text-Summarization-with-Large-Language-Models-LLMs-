{
  "nbformat": 4,
  "nbformat_minor": 0,
  "metadata": {
    "colab": {
      "provenance": [],
      "gpuType": "T4"
    },
    "kernelspec": {
      "name": "python3",
      "display_name": "Python 3"
    },
    "language_info": {
      "name": "python"
    },
    "accelerator": "GPU",
    "widgets": {
      "application/vnd.jupyter.widget-state+json": {
        "cddf26ffc78745fea9e671330663e2d7": {
          "model_module": "@jupyter-widgets/controls",
          "model_name": "HBoxModel",
          "model_module_version": "1.5.0",
          "state": {
            "_dom_classes": [],
            "_model_module": "@jupyter-widgets/controls",
            "_model_module_version": "1.5.0",
            "_model_name": "HBoxModel",
            "_view_count": null,
            "_view_module": "@jupyter-widgets/controls",
            "_view_module_version": "1.5.0",
            "_view_name": "HBoxView",
            "box_style": "",
            "children": [
              "IPY_MODEL_13c0b07d5602404592a2d16e71ad8eea",
              "IPY_MODEL_022898cf3f0547dabf11c52be25bdb98",
              "IPY_MODEL_7a5973c187f44964a8aaf8a91f25cb62"
            ],
            "layout": "IPY_MODEL_f698d526e67f49cd99ad551c0c800736"
          }
        },
        "13c0b07d5602404592a2d16e71ad8eea": {
          "model_module": "@jupyter-widgets/controls",
          "model_name": "HTMLModel",
          "model_module_version": "1.5.0",
          "state": {
            "_dom_classes": [],
            "_model_module": "@jupyter-widgets/controls",
            "_model_module_version": "1.5.0",
            "_model_name": "HTMLModel",
            "_view_count": null,
            "_view_module": "@jupyter-widgets/controls",
            "_view_module_version": "1.5.0",
            "_view_name": "HTMLView",
            "description": "",
            "description_tooltip": null,
            "layout": "IPY_MODEL_8266ef6c4a274dd9b1ef7ea692be7f10",
            "placeholder": "​",
            "style": "IPY_MODEL_c7898e5747594034b17b01a4845dcd4a",
            "value": "Loading checkpoint shards: 100%"
          }
        },
        "022898cf3f0547dabf11c52be25bdb98": {
          "model_module": "@jupyter-widgets/controls",
          "model_name": "FloatProgressModel",
          "model_module_version": "1.5.0",
          "state": {
            "_dom_classes": [],
            "_model_module": "@jupyter-widgets/controls",
            "_model_module_version": "1.5.0",
            "_model_name": "FloatProgressModel",
            "_view_count": null,
            "_view_module": "@jupyter-widgets/controls",
            "_view_module_version": "1.5.0",
            "_view_name": "ProgressView",
            "bar_style": "success",
            "description": "",
            "description_tooltip": null,
            "layout": "IPY_MODEL_6aebb62d6b2b4adf8251a6247b93b00d",
            "max": 8,
            "min": 0,
            "orientation": "horizontal",
            "style": "IPY_MODEL_5456836d4b164b0fb9f294326f93a9a2",
            "value": 8
          }
        },
        "7a5973c187f44964a8aaf8a91f25cb62": {
          "model_module": "@jupyter-widgets/controls",
          "model_name": "HTMLModel",
          "model_module_version": "1.5.0",
          "state": {
            "_dom_classes": [],
            "_model_module": "@jupyter-widgets/controls",
            "_model_module_version": "1.5.0",
            "_model_name": "HTMLModel",
            "_view_count": null,
            "_view_module": "@jupyter-widgets/controls",
            "_view_module_version": "1.5.0",
            "_view_name": "HTMLView",
            "description": "",
            "description_tooltip": null,
            "layout": "IPY_MODEL_c4a61056a67140a59cd4cf8246e3f5f7",
            "placeholder": "​",
            "style": "IPY_MODEL_19c9b11cc23749c8908059aae9547c8a",
            "value": " 8/8 [01:08&lt;00:00,  7.53s/it]"
          }
        },
        "f698d526e67f49cd99ad551c0c800736": {
          "model_module": "@jupyter-widgets/base",
          "model_name": "LayoutModel",
          "model_module_version": "1.2.0",
          "state": {
            "_model_module": "@jupyter-widgets/base",
            "_model_module_version": "1.2.0",
            "_model_name": "LayoutModel",
            "_view_count": null,
            "_view_module": "@jupyter-widgets/base",
            "_view_module_version": "1.2.0",
            "_view_name": "LayoutView",
            "align_content": null,
            "align_items": null,
            "align_self": null,
            "border": null,
            "bottom": null,
            "display": null,
            "flex": null,
            "flex_flow": null,
            "grid_area": null,
            "grid_auto_columns": null,
            "grid_auto_flow": null,
            "grid_auto_rows": null,
            "grid_column": null,
            "grid_gap": null,
            "grid_row": null,
            "grid_template_areas": null,
            "grid_template_columns": null,
            "grid_template_rows": null,
            "height": null,
            "justify_content": null,
            "justify_items": null,
            "left": null,
            "margin": null,
            "max_height": null,
            "max_width": null,
            "min_height": null,
            "min_width": null,
            "object_fit": null,
            "object_position": null,
            "order": null,
            "overflow": null,
            "overflow_x": null,
            "overflow_y": null,
            "padding": null,
            "right": null,
            "top": null,
            "visibility": null,
            "width": null
          }
        },
        "8266ef6c4a274dd9b1ef7ea692be7f10": {
          "model_module": "@jupyter-widgets/base",
          "model_name": "LayoutModel",
          "model_module_version": "1.2.0",
          "state": {
            "_model_module": "@jupyter-widgets/base",
            "_model_module_version": "1.2.0",
            "_model_name": "LayoutModel",
            "_view_count": null,
            "_view_module": "@jupyter-widgets/base",
            "_view_module_version": "1.2.0",
            "_view_name": "LayoutView",
            "align_content": null,
            "align_items": null,
            "align_self": null,
            "border": null,
            "bottom": null,
            "display": null,
            "flex": null,
            "flex_flow": null,
            "grid_area": null,
            "grid_auto_columns": null,
            "grid_auto_flow": null,
            "grid_auto_rows": null,
            "grid_column": null,
            "grid_gap": null,
            "grid_row": null,
            "grid_template_areas": null,
            "grid_template_columns": null,
            "grid_template_rows": null,
            "height": null,
            "justify_content": null,
            "justify_items": null,
            "left": null,
            "margin": null,
            "max_height": null,
            "max_width": null,
            "min_height": null,
            "min_width": null,
            "object_fit": null,
            "object_position": null,
            "order": null,
            "overflow": null,
            "overflow_x": null,
            "overflow_y": null,
            "padding": null,
            "right": null,
            "top": null,
            "visibility": null,
            "width": null
          }
        },
        "c7898e5747594034b17b01a4845dcd4a": {
          "model_module": "@jupyter-widgets/controls",
          "model_name": "DescriptionStyleModel",
          "model_module_version": "1.5.0",
          "state": {
            "_model_module": "@jupyter-widgets/controls",
            "_model_module_version": "1.5.0",
            "_model_name": "DescriptionStyleModel",
            "_view_count": null,
            "_view_module": "@jupyter-widgets/base",
            "_view_module_version": "1.2.0",
            "_view_name": "StyleView",
            "description_width": ""
          }
        },
        "6aebb62d6b2b4adf8251a6247b93b00d": {
          "model_module": "@jupyter-widgets/base",
          "model_name": "LayoutModel",
          "model_module_version": "1.2.0",
          "state": {
            "_model_module": "@jupyter-widgets/base",
            "_model_module_version": "1.2.0",
            "_model_name": "LayoutModel",
            "_view_count": null,
            "_view_module": "@jupyter-widgets/base",
            "_view_module_version": "1.2.0",
            "_view_name": "LayoutView",
            "align_content": null,
            "align_items": null,
            "align_self": null,
            "border": null,
            "bottom": null,
            "display": null,
            "flex": null,
            "flex_flow": null,
            "grid_area": null,
            "grid_auto_columns": null,
            "grid_auto_flow": null,
            "grid_auto_rows": null,
            "grid_column": null,
            "grid_gap": null,
            "grid_row": null,
            "grid_template_areas": null,
            "grid_template_columns": null,
            "grid_template_rows": null,
            "height": null,
            "justify_content": null,
            "justify_items": null,
            "left": null,
            "margin": null,
            "max_height": null,
            "max_width": null,
            "min_height": null,
            "min_width": null,
            "object_fit": null,
            "object_position": null,
            "order": null,
            "overflow": null,
            "overflow_x": null,
            "overflow_y": null,
            "padding": null,
            "right": null,
            "top": null,
            "visibility": null,
            "width": null
          }
        },
        "5456836d4b164b0fb9f294326f93a9a2": {
          "model_module": "@jupyter-widgets/controls",
          "model_name": "ProgressStyleModel",
          "model_module_version": "1.5.0",
          "state": {
            "_model_module": "@jupyter-widgets/controls",
            "_model_module_version": "1.5.0",
            "_model_name": "ProgressStyleModel",
            "_view_count": null,
            "_view_module": "@jupyter-widgets/base",
            "_view_module_version": "1.2.0",
            "_view_name": "StyleView",
            "bar_color": null,
            "description_width": ""
          }
        },
        "c4a61056a67140a59cd4cf8246e3f5f7": {
          "model_module": "@jupyter-widgets/base",
          "model_name": "LayoutModel",
          "model_module_version": "1.2.0",
          "state": {
            "_model_module": "@jupyter-widgets/base",
            "_model_module_version": "1.2.0",
            "_model_name": "LayoutModel",
            "_view_count": null,
            "_view_module": "@jupyter-widgets/base",
            "_view_module_version": "1.2.0",
            "_view_name": "LayoutView",
            "align_content": null,
            "align_items": null,
            "align_self": null,
            "border": null,
            "bottom": null,
            "display": null,
            "flex": null,
            "flex_flow": null,
            "grid_area": null,
            "grid_auto_columns": null,
            "grid_auto_flow": null,
            "grid_auto_rows": null,
            "grid_column": null,
            "grid_gap": null,
            "grid_row": null,
            "grid_template_areas": null,
            "grid_template_columns": null,
            "grid_template_rows": null,
            "height": null,
            "justify_content": null,
            "justify_items": null,
            "left": null,
            "margin": null,
            "max_height": null,
            "max_width": null,
            "min_height": null,
            "min_width": null,
            "object_fit": null,
            "object_position": null,
            "order": null,
            "overflow": null,
            "overflow_x": null,
            "overflow_y": null,
            "padding": null,
            "right": null,
            "top": null,
            "visibility": null,
            "width": null
          }
        },
        "19c9b11cc23749c8908059aae9547c8a": {
          "model_module": "@jupyter-widgets/controls",
          "model_name": "DescriptionStyleModel",
          "model_module_version": "1.5.0",
          "state": {
            "_model_module": "@jupyter-widgets/controls",
            "_model_module_version": "1.5.0",
            "_model_name": "DescriptionStyleModel",
            "_view_count": null,
            "_view_module": "@jupyter-widgets/base",
            "_view_module_version": "1.2.0",
            "_view_name": "StyleView",
            "description_width": ""
          }
        }
      }
    }
  },
  "cells": [
    {
      "cell_type": "code",
      "execution_count": 1,
      "metadata": {
        "colab": {
          "base_uri": "https://localhost:8080/"
        },
        "id": "oyiHDp1VwuXx",
        "outputId": "5ece22bd-9a7a-4834-edbc-df6396fd175b"
      },
      "outputs": [
        {
          "output_type": "stream",
          "name": "stdout",
          "text": [
            "\u001b[2K     \u001b[90m━━━━━━━━━━━━━━━━━━━━━━━━━━━━━━━━━━━━━━━━\u001b[0m \u001b[32m46.7/46.7 kB\u001b[0m \u001b[31m1.2 MB/s\u001b[0m eta \u001b[36m0:00:00\u001b[0m\n",
            "\u001b[2K     \u001b[90m━━━━━━━━━━━━━━━━━━━━━━━━━━━━━━━━━━━━━━━━\u001b[0m \u001b[32m1.1/1.1 MB\u001b[0m \u001b[31m9.1 MB/s\u001b[0m eta \u001b[36m0:00:00\u001b[0m\n",
            "\u001b[2K     \u001b[90m━━━━━━━━━━━━━━━━━━━━━━━━━━━━━━━━━━━━━━━━\u001b[0m \u001b[32m584.3/584.3 kB\u001b[0m \u001b[31m15.8 MB/s\u001b[0m eta \u001b[36m0:00:00\u001b[0m\n",
            "\u001b[2K     \u001b[90m━━━━━━━━━━━━━━━━━━━━━━━━━━━━━━━━━━━━━━━━\u001b[0m \u001b[32m990.0/990.0 kB\u001b[0m \u001b[31m27.7 MB/s\u001b[0m eta \u001b[36m0:00:00\u001b[0m\n",
            "\u001b[2K     \u001b[90m━━━━━━━━━━━━━━━━━━━━━━━━━━━━━━━━━━━━━━━━\u001b[0m \u001b[32m373.5/373.5 kB\u001b[0m \u001b[31m14.5 MB/s\u001b[0m eta \u001b[36m0:00:00\u001b[0m\n",
            "\u001b[2K     \u001b[90m━━━━━━━━━━━━━━━━━━━━━━━━━━━━━━━━━━━━━━━━\u001b[0m \u001b[32m337.0/337.0 kB\u001b[0m \u001b[31m18.9 MB/s\u001b[0m eta \u001b[36m0:00:00\u001b[0m\n",
            "\u001b[2K     \u001b[90m━━━━━━━━━━━━━━━━━━━━━━━━━━━━━━━━━━━━━━━━\u001b[0m \u001b[32m2.4/2.4 MB\u001b[0m \u001b[31m52.4 MB/s\u001b[0m eta \u001b[36m0:00:00\u001b[0m\n",
            "\u001b[2K     \u001b[90m━━━━━━━━━━━━━━━━━━━━━━━━━━━━━━━━━━━━━━━━\u001b[0m \u001b[32m92.2/92.2 kB\u001b[0m \u001b[31m6.7 MB/s\u001b[0m eta \u001b[36m0:00:00\u001b[0m\n",
            "\u001b[2K     \u001b[90m━━━━━━━━━━━━━━━━━━━━━━━━━━━━━━━━━━━━━━━━\u001b[0m \u001b[32m62.8/62.8 kB\u001b[0m \u001b[31m5.8 MB/s\u001b[0m eta \u001b[36m0:00:00\u001b[0m\n",
            "\u001b[2K     \u001b[90m━━━━━━━━━━━━━━━━━━━━━━━━━━━━━━━━━━━━━━━━\u001b[0m \u001b[32m41.3/41.3 kB\u001b[0m \u001b[31m4.0 MB/s\u001b[0m eta \u001b[36m0:00:00\u001b[0m\n",
            "\u001b[2K     \u001b[90m━━━━━━━━━━━━━━━━━━━━━━━━━━━━━━━━━━━━━━━━\u001b[0m \u001b[32m6.8/6.8 MB\u001b[0m \u001b[31m57.7 MB/s\u001b[0m eta \u001b[36m0:00:00\u001b[0m\n",
            "\u001b[2K     \u001b[90m━━━━━━━━━━━━━━━━━━━━━━━━━━━━━━━━━━━━━━━━\u001b[0m \u001b[32m59.9/59.9 kB\u001b[0m \u001b[31m5.7 MB/s\u001b[0m eta \u001b[36m0:00:00\u001b[0m\n",
            "\u001b[2K     \u001b[90m━━━━━━━━━━━━━━━━━━━━━━━━━━━━━━━━━━━━━━━━\u001b[0m \u001b[32m107.0/107.0 kB\u001b[0m \u001b[31m4.9 MB/s\u001b[0m eta \u001b[36m0:00:00\u001b[0m\n",
            "\u001b[2K     \u001b[90m━━━━━━━━━━━━━━━━━━━━━━━━━━━━━━━━━━━━━━━━\u001b[0m \u001b[32m67.3/67.3 kB\u001b[0m \u001b[31m5.4 MB/s\u001b[0m eta \u001b[36m0:00:00\u001b[0m\n",
            "\u001b[?25h  Installing build dependencies ... \u001b[?25l\u001b[?25hdone\n",
            "  Getting requirements to build wheel ... \u001b[?25l\u001b[?25hdone\n",
            "  Preparing metadata (pyproject.toml) ... \u001b[?25l\u001b[?25hdone\n",
            "\u001b[2K     \u001b[90m━━━━━━━━━━━━━━━━━━━━━━━━━━━━━━━━━━━━━━━━\u001b[0m \u001b[32m273.8/273.8 kB\u001b[0m \u001b[31m24.0 MB/s\u001b[0m eta \u001b[36m0:00:00\u001b[0m\n",
            "\u001b[2K     \u001b[90m━━━━━━━━━━━━━━━━━━━━━━━━━━━━━━━━━━━━━━━━\u001b[0m \u001b[32m1.7/1.7 MB\u001b[0m \u001b[31m68.0 MB/s\u001b[0m eta \u001b[36m0:00:00\u001b[0m\n",
            "\u001b[2K     \u001b[90m━━━━━━━━━━━━━━━━━━━━━━━━━━━━━━━━━━━━━━━━\u001b[0m \u001b[32m67.6/67.6 kB\u001b[0m \u001b[31m7.3 MB/s\u001b[0m eta \u001b[36m0:00:00\u001b[0m\n",
            "\u001b[2K     \u001b[90m━━━━━━━━━━━━━━━━━━━━━━━━━━━━━━━━━━━━━━━━\u001b[0m \u001b[32m141.1/141.1 kB\u001b[0m \u001b[31m12.4 MB/s\u001b[0m eta \u001b[36m0:00:00\u001b[0m\n",
            "\u001b[2K     \u001b[90m━━━━━━━━━━━━━━━━━━━━━━━━━━━━━━━━━━━━━━━━\u001b[0m \u001b[32m75.6/75.6 kB\u001b[0m \u001b[31m6.8 MB/s\u001b[0m eta \u001b[36m0:00:00\u001b[0m\n",
            "\u001b[2K     \u001b[90m━━━━━━━━━━━━━━━━━━━━━━━━━━━━━━━━━━━━━━━━\u001b[0m \u001b[32m139.8/139.8 kB\u001b[0m \u001b[31m13.7 MB/s\u001b[0m eta \u001b[36m0:00:00\u001b[0m\n",
            "\u001b[2K     \u001b[90m━━━━━━━━━━━━━━━━━━━━━━━━━━━━━━━━━━━━━━━━\u001b[0m \u001b[32m71.9/71.9 kB\u001b[0m \u001b[31m8.4 MB/s\u001b[0m eta \u001b[36m0:00:00\u001b[0m\n",
            "\u001b[2K     \u001b[90m━━━━━━━━━━━━━━━━━━━━━━━━━━━━━━━━━━━━━━━━\u001b[0m \u001b[32m77.9/77.9 kB\u001b[0m \u001b[31m9.8 MB/s\u001b[0m eta \u001b[36m0:00:00\u001b[0m\n",
            "\u001b[2K     \u001b[90m━━━━━━━━━━━━━━━━━━━━━━━━━━━━━━━━━━━━━━━━\u001b[0m \u001b[32m58.3/58.3 kB\u001b[0m \u001b[31m6.9 MB/s\u001b[0m eta \u001b[36m0:00:00\u001b[0m\n",
            "\u001b[2K     \u001b[90m━━━━━━━━━━━━━━━━━━━━━━━━━━━━━━━━━━━━━━━━\u001b[0m \u001b[32m46.0/46.0 kB\u001b[0m \u001b[31m4.3 MB/s\u001b[0m eta \u001b[36m0:00:00\u001b[0m\n",
            "\u001b[2K     \u001b[90m━━━━━━━━━━━━━━━━━━━━━━━━━━━━━━━━━━━━━━━━\u001b[0m \u001b[32m52.5/52.5 kB\u001b[0m \u001b[31m3.7 MB/s\u001b[0m eta \u001b[36m0:00:00\u001b[0m\n",
            "\u001b[2K     \u001b[90m━━━━━━━━━━━━━━━━━━━━━━━━━━━━━━━━━━━━━━━━\u001b[0m \u001b[32m130.5/130.5 kB\u001b[0m \u001b[31m12.1 MB/s\u001b[0m eta \u001b[36m0:00:00\u001b[0m\n",
            "\u001b[2K     \u001b[90m━━━━━━━━━━━━━━━━━━━━━━━━━━━━━━━━━━━━━━━━\u001b[0m \u001b[32m341.4/341.4 kB\u001b[0m \u001b[31m25.0 MB/s\u001b[0m eta \u001b[36m0:00:00\u001b[0m\n",
            "\u001b[2K     \u001b[90m━━━━━━━━━━━━━━━━━━━━━━━━━━━━━━━━━━━━━━━━\u001b[0m \u001b[32m3.4/3.4 MB\u001b[0m \u001b[31m48.7 MB/s\u001b[0m eta \u001b[36m0:00:00\u001b[0m\n",
            "\u001b[2K     \u001b[90m━━━━━━━━━━━━━━━━━━━━━━━━━━━━━━━━━━━━━━━━\u001b[0m \u001b[32m1.2/1.2 MB\u001b[0m \u001b[31m30.8 MB/s\u001b[0m eta \u001b[36m0:00:00\u001b[0m\n",
            "\u001b[2K     \u001b[90m━━━━━━━━━━━━━━━━━━━━━━━━━━━━━━━━━━━━━━━━\u001b[0m \u001b[32m130.2/130.2 kB\u001b[0m \u001b[31m12.2 MB/s\u001b[0m eta \u001b[36m0:00:00\u001b[0m\n",
            "\u001b[2K     \u001b[90m━━━━━━━━━━━━━━━━━━━━━━━━━━━━━━━━━━━━━━━━\u001b[0m \u001b[32m307.7/307.7 kB\u001b[0m \u001b[31m18.2 MB/s\u001b[0m eta \u001b[36m0:00:00\u001b[0m\n",
            "\u001b[2K     \u001b[90m━━━━━━━━━━━━━━━━━━━━━━━━━━━━━━━━━━━━━━━━\u001b[0m \u001b[32m86.8/86.8 kB\u001b[0m \u001b[31m6.1 MB/s\u001b[0m eta \u001b[36m0:00:00\u001b[0m\n",
            "\u001b[?25h  Building wheel for pypika (pyproject.toml) ... \u001b[?25l\u001b[?25hdone\n"
          ]
        }
      ],
      "source": [
        "!pip install --upgrade --quiet  langchain-openai tiktoken chromadb langchain"
      ]
    },
    {
      "cell_type": "code",
      "source": [
        "!pip install langchain_community\n",
        "!pip install -q torch transformers accelerate bitsandbytes transformers sentence-transformers faiss-gpu\n",
        "!pip install -q langchain huggingface_hub\n",
        "import torch\n",
        "from transformers import AutoTokenizer, AutoModelForCausalLM, BitsAndBytesConfig\n",
        "\n",
        "model_name = \"HuggingFaceH4/zephyr-7b-beta\"\n",
        "\n",
        "bnb_config = BitsAndBytesConfig(\n",
        "    load_in_4bit=True,\n",
        "    bnb_4bit_use_double_quant=True,\n",
        "    bnb_4bit_quant_type=\"nf4\",\n",
        "    bnb_4bit_compute_dtype=torch.bfloat16\n",
        "    )\n",
        "\n",
        "model = AutoModelForCausalLM.from_pretrained(model_name, quantization_config=bnb_config)\n",
        "tokenizer = AutoTokenizer.from_pretrained(model_name)\n",
        "\n",
        "from langchain.llms import HuggingFacePipeline\n",
        "from transformers import pipeline\n",
        "\n",
        "text_generation_pipeline = pipeline(\n",
        "    model=model,\n",
        "    tokenizer=tokenizer,\n",
        "    task=\"text-generation\",\n",
        "    temperature=0.2,\n",
        "    do_sample=True,\n",
        "    repetition_penalty=1.1,\n",
        "    return_full_text=True,\n",
        "    max_new_tokens=400,\n",
        ")\n",
        "\n",
        "llm = HuggingFacePipeline(pipeline=text_generation_pipeline)"
      ],
      "metadata": {
        "colab": {
          "base_uri": "https://localhost:8080/",
          "height": 868,
          "referenced_widgets": [
            "cddf26ffc78745fea9e671330663e2d7",
            "13c0b07d5602404592a2d16e71ad8eea",
            "022898cf3f0547dabf11c52be25bdb98",
            "7a5973c187f44964a8aaf8a91f25cb62",
            "f698d526e67f49cd99ad551c0c800736",
            "8266ef6c4a274dd9b1ef7ea692be7f10",
            "c7898e5747594034b17b01a4845dcd4a",
            "6aebb62d6b2b4adf8251a6247b93b00d",
            "5456836d4b164b0fb9f294326f93a9a2",
            "c4a61056a67140a59cd4cf8246e3f5f7",
            "19c9b11cc23749c8908059aae9547c8a"
          ]
        },
        "id": "8jjpxThPwvfW",
        "outputId": "8ed2432d-e991-41ce-8991-af3f975f1d55"
      },
      "execution_count": 3,
      "outputs": [
        {
          "output_type": "stream",
          "name": "stdout",
          "text": [
            "Collecting langchain_community\n",
            "  Downloading langchain_community-0.2.9-py3-none-any.whl (2.3 MB)\n",
            "\u001b[2K     \u001b[90m━━━━━━━━━━━━━━━━━━━━━━━━━━━━━━━━━━━━━━━━\u001b[0m \u001b[32m2.3/2.3 MB\u001b[0m \u001b[31m10.0 MB/s\u001b[0m eta \u001b[36m0:00:00\u001b[0m\n",
            "\u001b[?25hRequirement already satisfied: PyYAML>=5.3 in /usr/local/lib/python3.10/dist-packages (from langchain_community) (6.0.1)\n",
            "Requirement already satisfied: SQLAlchemy<3,>=1.4 in /usr/local/lib/python3.10/dist-packages (from langchain_community) (2.0.31)\n",
            "Requirement already satisfied: aiohttp<4.0.0,>=3.8.3 in /usr/local/lib/python3.10/dist-packages (from langchain_community) (3.9.5)\n",
            "Collecting dataclasses-json<0.7,>=0.5.7 (from langchain_community)\n",
            "  Downloading dataclasses_json-0.6.7-py3-none-any.whl (28 kB)\n",
            "Requirement already satisfied: langchain<0.3.0,>=0.2.9 in /usr/local/lib/python3.10/dist-packages (from langchain_community) (0.2.10)\n",
            "Requirement already satisfied: langchain-core<0.3.0,>=0.2.22 in /usr/local/lib/python3.10/dist-packages (from langchain_community) (0.2.22)\n",
            "Requirement already satisfied: langsmith<0.2.0,>=0.1.0 in /usr/local/lib/python3.10/dist-packages (from langchain_community) (0.1.93)\n",
            "Requirement already satisfied: numpy<2,>=1 in /usr/local/lib/python3.10/dist-packages (from langchain_community) (1.25.2)\n",
            "Requirement already satisfied: requests<3,>=2 in /usr/local/lib/python3.10/dist-packages (from langchain_community) (2.31.0)\n",
            "Requirement already satisfied: tenacity!=8.4.0,<9.0.0,>=8.1.0 in /usr/local/lib/python3.10/dist-packages (from langchain_community) (8.5.0)\n",
            "Requirement already satisfied: aiosignal>=1.1.2 in /usr/local/lib/python3.10/dist-packages (from aiohttp<4.0.0,>=3.8.3->langchain_community) (1.3.1)\n",
            "Requirement already satisfied: attrs>=17.3.0 in /usr/local/lib/python3.10/dist-packages (from aiohttp<4.0.0,>=3.8.3->langchain_community) (23.2.0)\n",
            "Requirement already satisfied: frozenlist>=1.1.1 in /usr/local/lib/python3.10/dist-packages (from aiohttp<4.0.0,>=3.8.3->langchain_community) (1.4.1)\n",
            "Requirement already satisfied: multidict<7.0,>=4.5 in /usr/local/lib/python3.10/dist-packages (from aiohttp<4.0.0,>=3.8.3->langchain_community) (6.0.5)\n",
            "Requirement already satisfied: yarl<2.0,>=1.0 in /usr/local/lib/python3.10/dist-packages (from aiohttp<4.0.0,>=3.8.3->langchain_community) (1.9.4)\n",
            "Requirement already satisfied: async-timeout<5.0,>=4.0 in /usr/local/lib/python3.10/dist-packages (from aiohttp<4.0.0,>=3.8.3->langchain_community) (4.0.3)\n",
            "Collecting marshmallow<4.0.0,>=3.18.0 (from dataclasses-json<0.7,>=0.5.7->langchain_community)\n",
            "  Downloading marshmallow-3.21.3-py3-none-any.whl (49 kB)\n",
            "\u001b[2K     \u001b[90m━━━━━━━━━━━━━━━━━━━━━━━━━━━━━━━━━━━━━━━━\u001b[0m \u001b[32m49.2/49.2 kB\u001b[0m \u001b[31m6.0 MB/s\u001b[0m eta \u001b[36m0:00:00\u001b[0m\n",
            "\u001b[?25hCollecting typing-inspect<1,>=0.4.0 (from dataclasses-json<0.7,>=0.5.7->langchain_community)\n",
            "  Downloading typing_inspect-0.9.0-py3-none-any.whl (8.8 kB)\n",
            "Requirement already satisfied: langchain-text-splitters<0.3.0,>=0.2.0 in /usr/local/lib/python3.10/dist-packages (from langchain<0.3.0,>=0.2.9->langchain_community) (0.2.2)\n",
            "Requirement already satisfied: pydantic<3,>=1 in /usr/local/lib/python3.10/dist-packages (from langchain<0.3.0,>=0.2.9->langchain_community) (2.8.2)\n",
            "Requirement already satisfied: jsonpatch<2.0,>=1.33 in /usr/local/lib/python3.10/dist-packages (from langchain-core<0.3.0,>=0.2.22->langchain_community) (1.33)\n",
            "Requirement already satisfied: packaging<25,>=23.2 in /usr/local/lib/python3.10/dist-packages (from langchain-core<0.3.0,>=0.2.22->langchain_community) (24.1)\n",
            "Requirement already satisfied: orjson<4.0.0,>=3.9.14 in /usr/local/lib/python3.10/dist-packages (from langsmith<0.2.0,>=0.1.0->langchain_community) (3.10.6)\n",
            "Requirement already satisfied: charset-normalizer<4,>=2 in /usr/local/lib/python3.10/dist-packages (from requests<3,>=2->langchain_community) (3.3.2)\n",
            "Requirement already satisfied: idna<4,>=2.5 in /usr/local/lib/python3.10/dist-packages (from requests<3,>=2->langchain_community) (3.7)\n",
            "Requirement already satisfied: urllib3<3,>=1.21.1 in /usr/local/lib/python3.10/dist-packages (from requests<3,>=2->langchain_community) (2.0.7)\n",
            "Requirement already satisfied: certifi>=2017.4.17 in /usr/local/lib/python3.10/dist-packages (from requests<3,>=2->langchain_community) (2024.7.4)\n",
            "Requirement already satisfied: typing-extensions>=4.6.0 in /usr/local/lib/python3.10/dist-packages (from SQLAlchemy<3,>=1.4->langchain_community) (4.12.2)\n",
            "Requirement already satisfied: greenlet!=0.4.17 in /usr/local/lib/python3.10/dist-packages (from SQLAlchemy<3,>=1.4->langchain_community) (3.0.3)\n",
            "Requirement already satisfied: jsonpointer>=1.9 in /usr/local/lib/python3.10/dist-packages (from jsonpatch<2.0,>=1.33->langchain-core<0.3.0,>=0.2.22->langchain_community) (3.0.0)\n",
            "Requirement already satisfied: annotated-types>=0.4.0 in /usr/local/lib/python3.10/dist-packages (from pydantic<3,>=1->langchain<0.3.0,>=0.2.9->langchain_community) (0.7.0)\n",
            "Requirement already satisfied: pydantic-core==2.20.1 in /usr/local/lib/python3.10/dist-packages (from pydantic<3,>=1->langchain<0.3.0,>=0.2.9->langchain_community) (2.20.1)\n",
            "Collecting mypy-extensions>=0.3.0 (from typing-inspect<1,>=0.4.0->dataclasses-json<0.7,>=0.5.7->langchain_community)\n",
            "  Downloading mypy_extensions-1.0.0-py3-none-any.whl (4.7 kB)\n",
            "Installing collected packages: mypy-extensions, marshmallow, typing-inspect, dataclasses-json, langchain_community\n",
            "Successfully installed dataclasses-json-0.6.7 langchain_community-0.2.9 marshmallow-3.21.3 mypy-extensions-1.0.0 typing-inspect-0.9.0\n"
          ]
        },
        {
          "output_type": "stream",
          "name": "stderr",
          "text": [
            "`low_cpu_mem_usage` was None, now set to True since model is quantized.\n"
          ]
        },
        {
          "output_type": "display_data",
          "data": {
            "text/plain": [
              "Loading checkpoint shards:   0%|          | 0/8 [00:00<?, ?it/s]"
            ],
            "application/vnd.jupyter.widget-view+json": {
              "version_major": 2,
              "version_minor": 0,
              "model_id": "cddf26ffc78745fea9e671330663e2d7"
            }
          },
          "metadata": {}
        },
        {
          "output_type": "stream",
          "name": "stderr",
          "text": [
            "/usr/local/lib/python3.10/dist-packages/langchain_core/_api/deprecation.py:139: LangChainDeprecationWarning: The class `HuggingFacePipeline` was deprecated in LangChain 0.0.37 and will be removed in 0.3. An updated version of the class exists in the langchain-huggingface package and should be used instead. To use it run `pip install -U langchain-huggingface` and import as `from langchain_huggingface import HuggingFacePipeline`.\n",
            "  warn_deprecated(\n"
          ]
        }
      ]
    },
    {
      "cell_type": "code",
      "source": [
        "!pip install pypdf\n",
        "\n",
        "from langchain_community.document_loaders import PyPDFLoader\n",
        "\n",
        "loader = PyPDFLoader(\"/content/R Hemapriya resume.pdf\")\n",
        "docs = loader.load()\n",
        "\n",
        "# Check if the issue is resolved. If not, you may need to investigate further\n",
        "# to determine the acceptable content types for the server.\n",
        "print(docs)"
      ],
      "metadata": {
        "colab": {
          "base_uri": "https://localhost:8080/"
        },
        "id": "zTiideV3xCut",
        "outputId": "b4954364-519b-4be3-d77f-fd2aa69d9fd6"
      },
      "execution_count": 13,
      "outputs": [
        {
          "output_type": "stream",
          "name": "stdout",
          "text": [
            "Requirement already satisfied: pypdf in /usr/local/lib/python3.10/dist-packages (4.3.1)\n",
            "Requirement already satisfied: typing_extensions>=4.0 in /usr/local/lib/python3.10/dist-packages (from pypdf) (4.12.2)\n",
            "[Document(metadata={'source': '/content/R Hemapriya resume.pdf', 'page': 0}, page_content='HEMAPRIYA R \\n#1-86 house no,Paipalyam,kuppam,chittor,Andhrapradesh \\nphone no: 6281679940 \\nE-mail: rhemapriya79@gmail.com \\n GitHub:https://github.com/Hemapriya2004  \\nLinkedin: https://www.linkedin.com/in/r-hemapriya-5b3743255/  \\n \\n \\n OBJECTIVE  \\nHighly motivated and detail-oriented individual with a strong foundation in computer \\nprogramming. Proficient in C, basic Python, and Java, with a proven ability to learn new \\ntechnologies quickly and effectively. Demonstrates excellent problem-solving skills and a keen \\ninterest in software development. \\n EDUCATION  \\n \\nInstitution  & qualification  Year of graduation  Percentage/CGPA  \\nSaveetha Engineering College (B.Tech) 2021-2025 8.0(Till 5thsem) \\nSri Chaitanaya Academy jr.College(XII) 2019-2021 9.7 \\nKuppam Public School (X) 2018-2019 10 \\n \\n \\n \\n SKILLS  \\n \\nTechnical skills: \\n \\n\\uf0b7 C \\n\\uf0b7 Python(basic) \\n\\uf0b7 Java (basic) \\n\\uf0b7 Data science \\n\\uf0b7 Machine learning \\nSoft Skills: \\n \\n\\uf0b7 Team Work \\n\\uf0b7 Quick Learning \\n\\uf0b7 Time management \\n\\uf0b7 Creativity '), Document(metadata={'source': '/content/R Hemapriya resume.pdf', 'page': 1}, page_content=' CERTIFICATIONS  \\n \\n\\uf0b7 Manipal university paper presentation – 2024 \\n\\uf0b7 Coursera certificate on What Is Data Science-2024 \\n\\uf0b7 Coursera certificate on Machine Learning With Python-2024 \\n\\uf0b7 Coursera certificate on Data Analysis With Python-2024 \\n\\uf0b7 Principles of Self Driving Vehicles and Renewable Energy Integratiom-2024- At SRM \\nUniversity \\n\\uf0b7 ICT Academy Certifications -2023ICT Academy Certifications -2023 \\n \\n PROJECTS AND INTERNSHIPS                                                                         \\nINTERNSHIP (Feb-2023): \\nCompany : BECBE Technologies \\nDomain: Web Development \\nDuration : One Month \\nIn this Internship, I gained a basic knowledge of Web Development using HTML,Python \\nTemplates  \\n \\nMINI PROJECT (2023): \\nProject title : Music Therapy using emotion detection and real time capture using CNN algorithm \\n \\nProject Description: \\n            In this project, we have collected the different images from the age groups and used the \\npreprocessing techniques and made applicable in the real-time image capturing using “OpenCV” \\nand using different kinds of music for different emotions  \\n HOBBIES:  \\n \\n\\uf0b7 Listening music \\n\\uf0b7 Shuttle \\n\\uf0b7 To know about different places and their cultures. ')]\n"
          ]
        }
      ]
    },
    {
      "cell_type": "code",
      "source": [
        "print(len(docs))\n",
        "docs[0]\n"
      ],
      "metadata": {
        "colab": {
          "base_uri": "https://localhost:8080/"
        },
        "id": "SQY-fGCN1WV7",
        "outputId": "ebfd2c95-f511-4dba-9e14-3816e419a225"
      },
      "execution_count": 14,
      "outputs": [
        {
          "output_type": "stream",
          "name": "stdout",
          "text": [
            "2\n"
          ]
        },
        {
          "output_type": "execute_result",
          "data": {
            "text/plain": [
              "Document(metadata={'source': '/content/R Hemapriya resume.pdf', 'page': 0}, page_content='HEMAPRIYA R \\n#1-86 house no,Paipalyam,kuppam,chittor,Andhrapradesh \\nphone no: 6281679940 \\nE-mail: rhemapriya79@gmail.com \\n GitHub:https://github.com/Hemapriya2004  \\nLinkedin: https://www.linkedin.com/in/r-hemapriya-5b3743255/  \\n \\n \\n OBJECTIVE  \\nHighly motivated and detail-oriented individual with a strong foundation in computer \\nprogramming. Proficient in C, basic Python, and Java, with a proven ability to learn new \\ntechnologies quickly and effectively. Demonstrates excellent problem-solving skills and a keen \\ninterest in software development. \\n EDUCATION  \\n \\nInstitution  & qualification  Year of graduation  Percentage/CGPA  \\nSaveetha Engineering College (B.Tech) 2021-2025 8.0(Till 5thsem) \\nSri Chaitanaya Academy jr.College(XII) 2019-2021 9.7 \\nKuppam Public School (X) 2018-2019 10 \\n \\n \\n \\n SKILLS  \\n \\nTechnical skills: \\n \\n\\uf0b7 C \\n\\uf0b7 Python(basic) \\n\\uf0b7 Java (basic) \\n\\uf0b7 Data science \\n\\uf0b7 Machine learning \\nSoft Skills: \\n \\n\\uf0b7 Team Work \\n\\uf0b7 Quick Learning \\n\\uf0b7 Time management \\n\\uf0b7 Creativity ')"
            ]
          },
          "metadata": {},
          "execution_count": 14
        }
      ]
    },
    {
      "cell_type": "code",
      "source": [
        "from langchain.chains.summarize import load_summarize_chain\n",
        "chain = load_summarize_chain(llm, chain_type=\"stuff\")\n",
        "chain.run(docs)"
      ],
      "metadata": {
        "colab": {
          "base_uri": "https://localhost:8080/",
          "height": 140
        },
        "id": "EMx5XqOa70Uu",
        "outputId": "4821fbcc-be64-4522-9d14-1af0e4349d04"
      },
      "execution_count": 15,
      "outputs": [
        {
          "output_type": "stream",
          "name": "stderr",
          "text": [
            "/usr/local/lib/python3.10/dist-packages/langchain_core/_api/deprecation.py:139: LangChainDeprecationWarning: The method `Chain.run` was deprecated in langchain 0.1.0 and will be removed in 0.3.0. Use invoke instead.\n",
            "  warn_deprecated(\n"
          ]
        },
        {
          "output_type": "execute_result",
          "data": {
            "text/plain": [
              "'Write a concise summary of the following:\\n\\n\\n\"HEMAPRIYA R \\n#1-86 house no,Paipalyam,kuppam,chittor,Andhrapradesh \\nphone no: 6281679940 \\nE-mail: rhemapriya79@gmail.com \\n GitHub:https://github.com/Hemapriya2004  \\nLinkedin: https://www.linkedin.com/in/r-hemapriya-5b3743255/  \\n \\n \\n OBJECTIVE  \\nHighly motivated and detail-oriented individual with a strong foundation in computer \\nprogramming. Proficient in C, basic Python, and Java, with a proven ability to learn new \\ntechnologies quickly and effectively. Demonstrates excellent problem-solving skills and a keen \\ninterest in software development. \\n EDUCATION  \\n \\nInstitution  & qualification  Year of graduation  Percentage/CGPA  \\nSaveetha Engineering College (B.Tech) 2021-2025 8.0(Till 5thsem) \\nSri Chaitanaya Academy jr.College(XII) 2019-2021 9.7 \\nKuppam Public School (X) 2018-2019 10 \\n \\n \\n \\n SKILLS  \\n \\nTechnical skills: \\n \\n\\uf0b7 C \\n\\uf0b7 Python(basic) \\n\\uf0b7 Java (basic) \\n\\uf0b7 Data science \\n\\uf0b7 Machine learning \\nSoft Skills: \\n \\n\\uf0b7 Team Work \\n\\uf0b7 Quick Learning \\n\\uf0b7 Time management \\n\\uf0b7 Creativity \\n\\n CERTIFICATIONS  \\n \\n\\uf0b7 Manipal university paper presentation – 2024 \\n\\uf0b7 Coursera certificate on What Is Data Science-2024 \\n\\uf0b7 Coursera certificate on Machine Learning With Python-2024 \\n\\uf0b7 Coursera certificate on Data Analysis With Python-2024 \\n\\uf0b7 Principles of Self Driving Vehicles and Renewable Energy Integratiom-2024- At SRM \\nUniversity \\n\\uf0b7 ICT Academy Certifications -2023ICT Academy Certifications -2023 \\n \\n PROJECTS AND INTERNSHIPS                                                                         \\nINTERNSHIP (Feb-2023): \\nCompany : BECBE Technologies \\nDomain: Web Development \\nDuration : One Month \\nIn this Internship, I gained a basic knowledge of Web Development using HTML,Python \\nTemplates  \\n \\nMINI PROJECT (2023): \\nProject title : Music Therapy using emotion detection and real time capture using CNN algorithm \\n \\nProject Description: \\n            In this project, we have collected the different images from the age groups and used the \\npreprocessing techniques and made applicable in the real-time image capturing using “OpenCV” \\nand using different kinds of music for different emotions  \\n HOBBIES:  \\n \\n\\uf0b7 Listening music \\n\\uf0b7 Shuttle \\n\\uf0b7 To know about different places and their cultures. \"\\n\\n\\nCONCISE SUMMARY: Hemapriya is a highly motivated and detail-oriented individual with a strong foundation in computer programming, proficient in C, basic Python, and Java, and demonstrates excellent problem-solving skills. She has completed her B.Tech at Saveetha Engineering College with an 8.0 CGPA till her fifth semester. Her soft skills include teamwork, quick learning, time management, and creativity. She has obtained certifications from Manipal University, Coursera, and ICT Academy. Her internship experience includes web development at BECBE Technologies, and she has completed a mini-project titled \"Music Therapy using emotion detection and real-time capture using CNN algorithm.\" Her hobbies include listening to music, shuttle, and exploring different places and their cultures.'"
            ],
            "application/vnd.google.colaboratory.intrinsic+json": {
              "type": "string"
            }
          },
          "metadata": {},
          "execution_count": 15
        }
      ]
    },
    {
      "cell_type": "code",
      "source": [
        "from langchain.chains.combine_documents.stuff import StuffDocumentsChain\n",
        "from langchain.chains.llm import LLMChain\n",
        "from langchain.prompts import PromptTemplate\n",
        "\n",
        "# Define prompt\n",
        "prompt_template = \"\"\"Write a concise summary of the following:\n",
        "\"{text}\"\n",
        "CONCISE SUMMARY:\"\"\"\n",
        "prompt = PromptTemplate.from_template(prompt_template)\n",
        "\n",
        "# Define LLM chain\n",
        "\n",
        "llm_chain = LLMChain(llm=llm, prompt=prompt)\n",
        "\n",
        "# Define StuffDocumentsChain\n",
        "stuff_chain = StuffDocumentsChain(llm_chain=llm_chain, document_variable_name=\"text\")\n",
        "\n",
        "docs = loader.load()\n",
        "print(stuff_chain.run(docs))"
      ],
      "metadata": {
        "colab": {
          "base_uri": "https://localhost:8080/"
        },
        "id": "p2NlbZNI769T",
        "outputId": "eae2b171-c38d-4ab1-f3db-cf56083c4fc3"
      },
      "execution_count": 16,
      "outputs": [
        {
          "output_type": "stream",
          "name": "stderr",
          "text": [
            "/usr/local/lib/python3.10/dist-packages/langchain_core/_api/deprecation.py:139: LangChainDeprecationWarning: The class `LLMChain` was deprecated in LangChain 0.1.17 and will be removed in 1.0. Use RunnableSequence, e.g., `prompt | llm` instead.\n",
            "  warn_deprecated(\n"
          ]
        },
        {
          "output_type": "stream",
          "name": "stdout",
          "text": [
            "Write a concise summary of the following:\n",
            "\"HEMAPRIYA R \n",
            "#1-86 house no,Paipalyam,kuppam,chittor,Andhrapradesh \n",
            "phone no: 6281679940 \n",
            "E-mail: rhemapriya79@gmail.com \n",
            " GitHub:https://github.com/Hemapriya2004  \n",
            "Linkedin: https://www.linkedin.com/in/r-hemapriya-5b3743255/  \n",
            " \n",
            " \n",
            " OBJECTIVE  \n",
            "Highly motivated and detail-oriented individual with a strong foundation in computer \n",
            "programming. Proficient in C, basic Python, and Java, with a proven ability to learn new \n",
            "technologies quickly and effectively. Demonstrates excellent problem-solving skills and a keen \n",
            "interest in software development. \n",
            " EDUCATION  \n",
            " \n",
            "Institution  & qualification  Year of graduation  Percentage/CGPA  \n",
            "Saveetha Engineering College (B.Tech) 2021-2025 8.0(Till 5thsem) \n",
            "Sri Chaitanaya Academy jr.College(XII) 2019-2021 9.7 \n",
            "Kuppam Public School (X) 2018-2019 10 \n",
            " \n",
            " \n",
            " \n",
            " SKILLS  \n",
            " \n",
            "Technical skills: \n",
            " \n",
            " C \n",
            " Python(basic) \n",
            " Java (basic) \n",
            " Data science \n",
            " Machine learning \n",
            "Soft Skills: \n",
            " \n",
            " Team Work \n",
            " Quick Learning \n",
            " Time management \n",
            " Creativity \n",
            "\n",
            " CERTIFICATIONS  \n",
            " \n",
            " Manipal university paper presentation – 2024 \n",
            " Coursera certificate on What Is Data Science-2024 \n",
            " Coursera certificate on Machine Learning With Python-2024 \n",
            " Coursera certificate on Data Analysis With Python-2024 \n",
            " Principles of Self Driving Vehicles and Renewable Energy Integratiom-2024- At SRM \n",
            "University \n",
            " ICT Academy Certifications -2023ICT Academy Certifications -2023 \n",
            " \n",
            " PROJECTS AND INTERNSHIPS                                                                         \n",
            "INTERNSHIP (Feb-2023): \n",
            "Company : BECBE Technologies \n",
            "Domain: Web Development \n",
            "Duration : One Month \n",
            "In this Internship, I gained a basic knowledge of Web Development using HTML,Python \n",
            "Templates  \n",
            " \n",
            "MINI PROJECT (2023): \n",
            "Project title : Music Therapy using emotion detection and real time capture using CNN algorithm \n",
            " \n",
            "Project Description: \n",
            "            In this project, we have collected the different images from the age groups and used the \n",
            "preprocessing techniques and made applicable in the real-time image capturing using “OpenCV” \n",
            "and using different kinds of music for different emotions  \n",
            " HOBBIES:  \n",
            " \n",
            " Listening music \n",
            " Shuttle \n",
            " To know about different places and their cultures. \"\n",
            "CONCISE SUMMARY: Hemapriya is a highly motivated and detail-oriented individual with a strong foundation in computer programming, proficient in C, basic Python, and Java, with a proven ability to learn new technologies quickly and effectively. She has completed her B.Tech at Saveetha Engineering College and has achieved high academic performance throughout her education. Her technical skills include C, Python (basic), Java (basic), data science, machine learning, teamwork, quick learning, time management, and creativity. She has obtained several certifications, including Manipal University's paper presentation, Coursera certificates in data science, machine learning, and data analysis with Python, as well as ICT Academy certifications and a certification from SRM University. Hemapriya has gained experience through an internship at BECBE Technologies in web development and a mini-project titled \"Music Therapy using Emotion Detection and Real-Time Capture Using CNN Algorithm.\" Her hobbies include listening to music, shuttle, and learning about different places and their cultures. She can be reached via phone or email, and her LinkedIn and GitHub profiles are provided for further information.\n"
          ]
        }
      ]
    },
    {
      "cell_type": "code",
      "source": [
        "!pip install pypdf\n",
        "from langchain.chains.summarize import load_summarize_chain\n",
        "from langchain_community.document_loaders import PyPDFLoader\n",
        "\n",
        "loader = PyPDFLoader(\"/content/fundamental rights.pdf\")\n",
        "docs = loader.load()\n",
        "print(len(docs))\n",
        "docs[0]\n"
      ],
      "metadata": {
        "colab": {
          "base_uri": "https://localhost:8080/"
        },
        "id": "YBKpqMa08JE1",
        "outputId": "797319e5-4d3e-411a-b3b6-a6e6245ed46b"
      },
      "execution_count": 17,
      "outputs": [
        {
          "output_type": "stream",
          "name": "stdout",
          "text": [
            "Requirement already satisfied: pypdf in /usr/local/lib/python3.10/dist-packages (4.3.1)\n",
            "Requirement already satisfied: typing_extensions>=4.0 in /usr/local/lib/python3.10/dist-packages (from pypdf) (4.12.2)\n",
            "11\n"
          ]
        },
        {
          "output_type": "execute_result",
          "data": {
            "text/plain": [
              "Document(metadata={'source': '/content/fundamental rights.pdf', 'page': 0}, page_content='MODULE - 2\\nNotes\\n58Political Science\\nAspects of the\\nConstitution of India\\n6\\nFUNDAMENT AL RIGHTS\\neople in democractic conutries enjoy certain rights, which are protected by judicial\\nsystem of the country concerned. Their violation, even by the State, is not allowed by the\\ncourts. India respects the rights of the people, which are listed in our Constitution, under\\nthe heading “Fundamental Rights”. In lesson, a mention has been made of the Fundamental\\nRights as one of the salient features of the Constitution. In this lesson, we will discuss in\\ndetail various Fundamental Rights which are incorporated in chapler III of the Constitution.\\nObjectives\\nAfter studying this lesson you will be able to\\n/circle6 explain the meaning and importance of Fundamental Rights;\\n/circle6 highlight that the dignity of an individual is protected and safe guarded through\\nFundamental Rights;\\n/circle6 recognise that the enforcement of Fundamental Rights is ensured through High Courts\\nand the Supreme Court;\\n/circle6 explain the Right to Equality;\\n/circle6 recognise the rationale behind protective discrimination in favour of Scheduled Castes\\nand Scheduled Tribes and other backward classes(OBCs);\\n/circle6 describe as well as appreciate the Right to Freedom;\\n/circle6 recall the safeguards against deprivation of life and personal liberty except according\\nto the procedure established by law;\\n/circle6 explain the Right against Exploitation;\\n/circle6 appreciate the Right to Freedom of Religion;\\n/circle6 explain Cultural and Educational Rights;\\n/circle6 identify the right to Constitutional Remedies;\\n/circle6 recall the value of writs that may be issued for the protection of Fundamental Rights;\\nandP\\n')"
            ]
          },
          "metadata": {},
          "execution_count": 17
        }
      ]
    },
    {
      "cell_type": "code",
      "source": [],
      "metadata": {
        "id": "_CN5kf1kgx1e"
      },
      "execution_count": null,
      "outputs": []
    }
  ]
}